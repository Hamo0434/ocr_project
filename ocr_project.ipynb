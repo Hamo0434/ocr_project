import cv2 
import pytesseract
import os 
# os.chdir(r'C:\\tessearct')


pytesseract.pytesseract.pytesseract_cmd = r"C:\Program Files (x86)\Tesseract-OCR\tesseract.exe"


img  = cv2.imread(r"C:\Users\Elhamd Pc\Pictures\Screenshots\Screenshot 2024-05-24 074742.png")

Himg , Wimg , _ = img.shape


# # HERE WE WILL DETECT EVERY CHARACTER
# boxes = pytesseract.image_to_boxes(img , lang = 'eng')
# print(boxes)


# for b in boxes.splitlines():
#     print(b)
#     b = b.split(" ")
#     print(b)
#     x, y , w, h = int(b[1]) , int(b[2]), int(b[3] ), int(b[4])  # the type before that is string
#     cv2.rectangle(img , (x, Himg - y) , (w , Himg - h) , (255 , 0 ,0) , 1 )
#     cv2.putText(img, b[0], (x, Himg - y+25), cv2.FONT_HERSHEY_COMPLEX, .4, (255 , 0 , 0) , 1)
#     print('*' * 50)
                                            
                                            
# cv2.imshow('img', img)
# cv2.waitKey(0)
# cv2.destroyAllWindows()       


# HERE WE WILL DETECT EVERY WORD
boxes = pytesseract.image_to_data(img , lang = 'eng')

print(boxes)

for x,b in enumerate(boxes.splitlines()):
    if x != 0:
        b = b.split()
        print(b)
        if len(b)==12:
            x, y , w, h = int(b[6]) , int(b[7]), int(b[8] ), int(b[9])
            cv2.rectangle(img , (x,  y) , (w , h) , (255 , 0 ,0) , 1 )
            cv2.putText(img, b[11], (x, y), cv2.FONT_HERSHEY_COMPLEX, .4, (255 , 0 , 0) , 1)
            
cv2.imshow('img', img)
cv2.waitKey(0)
cv2.destroyAllWindows()                                      




